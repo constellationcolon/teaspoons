{
 "cells": [
  {
   "cell_type": "code",
   "execution_count": 1,
   "metadata": {
    "collapsed": true,
    "slideshow": {
     "slide_type": "skip"
    }
   },
   "outputs": [],
   "source": [
    "import numpy as np\n",
    "from ipywidgets import interact, IntSlider\n",
    "from IPython.display import HTML\n",
    "import matplotlib.pyplot as plt\n",
    "%matplotlib inline\n",
    "plt.style.use(['ggplot','seaborn-notebook'])\n",
    "from tqdm import tqdm"
   ]
  },
  {
   "cell_type": "code",
   "execution_count": null,
   "metadata": {
    "collapsed": true
   },
   "outputs": [],
   "source": []
  },
  {
   "cell_type": "markdown",
   "metadata": {
    "nbpresent": {
     "id": "216bfca4-dc8a-4ab8-b033-41af4f61089c"
    },
    "slideshow": {
     "slide_type": "slide"
    }
   },
   "source": [
    "# The Travelling Salesman Problem\n",
    "\n",
    "<br />\n",
    "\n",
    "Colin Valentini & Su Hang\n",
    "\n",
    "November 11, 2016"
   ]
  },
  {
   "cell_type": "markdown",
   "metadata": {
    "nbpresent": {
     "id": "ec2c4b4a-173d-4edd-84d2-f5c3331e59be"
    },
    "slideshow": {
     "slide_type": "slide"
    }
   },
   "source": [
    "## Outline\n",
    "\n",
    "- What is the Travelling Salesman Problem (TSP)?\n",
    "- Why do we care? Why should *you* care?\n",
    "- Bibliography\n",
    "- Solutions vs. heuristics\n",
    "- Lin-Kernighan Heuristics et al.\n",
    "    - Standard, Mak & Morton, Chained LK\n",
    "- The Ant Colony System\n",
    "- The Future"
   ]
  },
  {
   "cell_type": "markdown",
   "metadata": {
    "nbpresent": {
     "id": "ee0c8189-1595-4ba7-b762-23d381c7ff4c"
    },
    "slideshow": {
     "slide_type": "slide"
    }
   },
   "source": [
    "## What is the Travelling Salesman Problem?"
   ]
  },
  {
   "cell_type": "markdown",
   "metadata": {
    "slideshow": {
     "slide_type": "fragment"
    }
   },
   "source": [
    "Given a set of cities, what's the fastest way to visit each city exactly once and then return home?"
   ]
  },
  {
   "cell_type": "markdown",
   "metadata": {
    "slideshow": {
     "slide_type": "subslide"
    }
   },
   "source": [
    "Complete (di)graph $G = (V, E)$\n",
    "\n",
    "**Cities**\n",
    "$$V = \\{v_i\\}_{i=1}^n$$"
   ]
  },
  {
   "cell_type": "markdown",
   "metadata": {
    "slideshow": {
     "slide_type": "subslide"
    }
   },
   "source": [
    "**Paths between each possible city pair**\n",
    "\n",
    "\\begin{align}\n",
    "E &= \\{e_j\\}_{j=1}^m \n",
    "\\\\\n",
    "m &=\n",
    "\\begin{cases}\n",
    "\\frac{n (n-1)}{2} & \\text{symmetric TSP, undirected edges} \\\\\n",
    "n (n-1) & \\text{asymmetric TSP, directed edges}\n",
    "\\end{cases}\n",
    "\\end{align}"
   ]
  },
  {
   "cell_type": "markdown",
   "metadata": {
    "slideshow": {
     "slide_type": "fragment"
    }
   },
   "source": [
    "**Cost vector**\n",
    "\n",
    "\\begin{align}\n",
    "c &\\in \\mathbb{R}^m \\\\\n",
    "m &=\n",
    "\\begin{cases}\n",
    "c_{ab} = c_{ba}  & \\text{symmetric TSP, undirected edges} \\\\\n",
    "c_{ab} \\neq c_{ba} & \\text{asymmetric TSP, directed edges}\n",
    "\\end{cases}\n",
    "\\end{align}"
   ]
  },
  {
   "cell_type": "markdown",
   "metadata": {
    "slideshow": {
     "slide_type": "fragment"
    }
   },
   "source": [
    "Today, we restrict ourselves to the **symmetric** case."
   ]
  },
  {
   "cell_type": "markdown",
   "metadata": {
    "nbpresent": {
     "id": "611b9d1e-b0fb-458b-9374-36fcf46b6d67"
    },
    "slideshow": {
     "slide_type": "subslide"
    }
   },
   "source": [
    "**Tour vectors**\n",
    "\n",
    "$$\\mathbf{x} \\in \\{0,1\\}^m\n",
    "\\quad\\text{where }\n",
    "x_{j} =\n",
    "\\begin{cases}\n",
    "1 & e_j \\text{ in tour} \\\\\n",
    "0 & e_j \\text{ not in tour}\n",
    "\\end{cases}\n",
    "$$\n",
    "\n",
    "**All possible tour vectors**\n",
    "\n",
    "$$\\mathbf{x} \\in S \\quad \\text{and} \\quad |S| = \\frac{(n-1)!}{2}$$"
   ]
  },
  {
   "cell_type": "markdown",
   "metadata": {
    "slideshow": {
     "slide_type": "subslide"
    }
   },
   "source": [
    "**Objective function**\n",
    "$$\n",
    "\\underset{\\mathbf{x} \\in S}{\\arg\\min} ~ \\mathbf{c}^\\top \\mathbf{x}\n",
    "$$\n",
    "\n",
    "such that"
   ]
  },
  {
   "cell_type": "markdown",
   "metadata": {
    "slideshow": {
     "slide_type": "fragment"
    }
   },
   "source": [
    "Each city $v$ participates in 2 edges\n",
    "\n",
    "$$\n",
    "\\sum_{e: v \\in e} x_e = 2 \\quad \\forall \\, \\mathbf{x} \\in S\n",
    "$$"
   ]
  },
  {
   "cell_type": "markdown",
   "metadata": {
    "slideshow": {
     "slide_type": "fragment"
    }
   },
   "source": [
    "Subtour constraint\n",
    "\n",
    "$$\n",
    "W = \\{ e = (u,v) : ~ ( u \\in Q \\cap v \\in Q^c ) \\cup ( u \\in Q^c \\cap v \\in Q ) \\} \\\\\n",
    "\\sum_{w \\in W} x_w \\geq 2 \\quad \\forall Q \\subset V, ~ Q \\neq \\emptyset\n",
    "$$"
   ]
  },
  {
   "cell_type": "markdown",
   "metadata": {
    "slideshow": {
     "slide_type": "subslide"
    }
   },
   "source": [
    "### TSP et al.\n",
    "\n",
    "- Travelling Purchaser Problem\n",
    "- Quadratic Assignment Problem"
   ]
  },
  {
   "cell_type": "markdown",
   "metadata": {
    "slideshow": {
     "slide_type": "slide"
    }
   },
   "source": [
    "## Why do we care?\n",
    "\n",
    "Colin\n",
    "- Loves computer science\n",
    "- Traumatic experience waiting to board planes\n",
    "\n",
    "Su\n",
    "- Also a CS Major in Intelligent Systems track\n",
    "- Part of research is on reinforcement learning"
   ]
  },
  {
   "cell_type": "markdown",
   "metadata": {
    "slideshow": {
     "slide_type": "subslide"
    }
   },
   "source": [
    "## Why should *you* care?"
   ]
  },
  {
   "cell_type": "markdown",
   "metadata": {
    "slideshow": {
     "slide_type": "subslide"
    }
   },
   "source": [
    "<center>\n",
    "<img src=\"http://imgs.xkcd.com/comics/travelling_salesman_problem.png\" />\n",
    "<p style=\"text-align: center; font-size: 0.5em;\">http://xkcd.com/399/</p>\n",
    "</center>"
   ]
  },
  {
   "cell_type": "markdown",
   "metadata": {
    "slideshow": {
     "slide_type": "subslide"
    }
   },
   "source": [
    "### Computational complexity\n",
    "$$\n",
    "P \\overset{?}{=} NP\n",
    "$$"
   ]
  },
  {
   "cell_type": "markdown",
   "metadata": {
    "slideshow": {
     "slide_type": "subslide"
    }
   },
   "source": [
    "#### Encryption\n",
    "<center>\n",
    "<img src=\"fig/prime_meme.jpg\" />\n",
    "<p style=\"text-align: center; font-size: 0.5em;\">https://imgflip.com/i/1dl4us</p>\n",
    "</center>"
   ]
  },
  {
   "cell_type": "markdown",
   "metadata": {
    "nbpresent": {
     "id": "bae50cbd-613d-421a-b078-e162230bfc9a"
    },
    "slideshow": {
     "slide_type": "subslide"
    }
   },
   "source": [
    "### Operations Research\n",
    "\n",
    "Shipping and delivery routes (Amazon, FedEx, UPS, etc)\n",
    "\n",
    "Circuit board and drilling operations\n",
    "\n",
    "Plane boarding"
   ]
  },
  {
   "cell_type": "markdown",
   "metadata": {
    "slideshow": {
     "slide_type": "subslide"
    }
   },
   "source": [
    "## Solutions vs. Heuristics"
   ]
  },
  {
   "cell_type": "markdown",
   "metadata": {
    "slideshow": {
     "slide_type": "fragment"
    }
   },
   "source": [
    "**Solution** Tour of minimal cost\n",
    "\n",
    "**Heuristic** Tour of \"good enough\" cost"
   ]
  },
  {
   "cell_type": "markdown",
   "metadata": {
    "slideshow": {
     "slide_type": "notes"
    }
   },
   "source": [
    "As it relates to P?=NP\n",
    "\n",
    "e.g. (non-)convexity, and the power of \"good enough\" in machine learning"
   ]
  },
  {
   "cell_type": "markdown",
   "metadata": {
    "slideshow": {
     "slide_type": "slide"
    }
   },
   "source": [
    "## Bibliography\n",
    "\n",
    "<br />\n",
    "\n",
    "<div style=\"font-size: 0.5em\">\n",
    "\n",
    "Applegate, D., R. Bixby, V. Chvátal, W. Cook. 2006. The Travelling Salesman Problem: A Computational Study. Princeton, New Jersey.\n",
    "\n",
    "Deneubourg, J-L., et al. \"The self-organizing exploratory pattern of the Argentine ant.\" Journal of insect behavior 3.2 (1990): 159-168.\n",
    "\n",
    "Perna, Andrea, et al. \"Individual rules for trail pattern formation in Argentine ants (Linepithema humile).\" PLoS Comput Biol 8.7 (2012): e1002592.\n",
    "\n",
    "Dorigo, Marco, and Luca Maria Gambardella. \"Ant colony system: a cooperative learning approach to the traveling salesman problem.\" IEEE Transactions on evolutionary computation 1.1 (1997): 53-66.\n",
    "\n",
    "Dorigo, Marco. (June 3, 2015). Marco Dorigo Web Site. Retrieved Nov 7, 2016 from http://iridia.ulb.ac.be/~mdorigo/HomePageDorigo/.\n",
    "\n",
    "Lin, Shen, and Brian W. Kernighan. \"An effective heuristic algorithm for the traveling-salesman problem.\" Operations research 21.2 (1973): 498-516.\n",
    "\n",
    "Helsgaun, K. 2000. An effective implementation of the Lin-Kernighan traveling salesman heuristic. European Journal of Operational Research 126, 106-130.\n",
    "\n",
    "Mak K., A. Morton. 1993. A modified Lin-Kernighan traveling-salesman heuristic.  Operations Research Letters 13, 127-132.\n",
    "\n",
    "Martin, O., S. Otto, E. Felten. 1991. Large-step Markov chains for the traveling salesman problem. Complex Systems 5, 299-326.\n",
    "\n",
    "Rosenkrantz, Daniel J., Richard E. Stearns, and Philip M. Lewis, II. \"An analysis of several heuristics for the traveling salesman problem.\" SIAM journal on computing 6.3 (1977): 563-581.\n",
    "</span>"
   ]
  },
  {
   "cell_type": "markdown",
   "metadata": {
    "slideshow": {
     "slide_type": "slide"
    }
   },
   "source": [
    "## The Lin-Kernighan Heuristic"
   ]
  },
  {
   "cell_type": "markdown",
   "metadata": {
    "slideshow": {
     "slide_type": "subslide"
    }
   },
   "source": [
    "### Overview\n",
    "\n",
    "The Lin-Kernighan Heuristic (LK) is one of the most popular TSP heuristics\n",
    "\n",
    "1973, Bell Labs, by Shen Lin and Brian Kernighan\n",
    "\n",
    "Dominant heuristic approach for 15 years\n",
    "\n",
    "Most modern heuristics have (LK) at their core"
   ]
  },
  {
   "cell_type": "markdown",
   "metadata": {
    "nbpresent": {
     "id": "82a1675c-a101-4204-b5d2-5a2cb0029073"
    },
    "slideshow": {
     "slide_type": "fragment"
    }
   },
   "source": [
    "#### Fun Facts about Kernighan\n",
    "\n",
    "Co-authored *the* book on C, The C Programming Language Manual\n",
    "\n",
    "Co-created the AWK programming language with Prof. Alfred Aho (of Columbia CS Theory and \"Dragon Book\" fame)"
   ]
  },
  {
   "cell_type": "markdown",
   "metadata": {
    "slideshow": {
     "slide_type": "subslide"
    }
   },
   "source": [
    "### How does Lin-Kernighan work?\n",
    "\n",
    "Can we find a set of $k$ edges in a given tour $T$ and replace them with another set of $k$ edges not in $T$ to get a tour with less cost?"
   ]
  },
  {
   "cell_type": "markdown",
   "metadata": {
    "slideshow": {
     "slide_type": "subslide"
    }
   },
   "source": [
    "### $k$-Optimality\n",
    "Motivation & Intuition for Lin-Kernighan"
   ]
  },
  {
   "cell_type": "markdown",
   "metadata": {
    "slideshow": {
     "slide_type": "fragment"
    }
   },
   "source": [
    "Tour $T$ is **$k$-optimal** if it's impossible to obtain a tour of less cost by swapping $k$ edges in $T$ with any other $k$ edges in $T^C$."
   ]
  },
  {
   "cell_type": "markdown",
   "metadata": {
    "slideshow": {
     "slide_type": "fragment"
    }
   },
   "source": [
    "A **$k$-opt** is a swapping operation that removes $k$ edges $\\left\\{e_j \\in T\\right\\}_{j=1}^k$ and replaces them with another, *disjoint*, set of $k$ edges $\\left\\{f_j \\in T^C\\right\\}_{j=1}^k$."
   ]
  },
  {
   "cell_type": "markdown",
   "metadata": {
    "slideshow": {
     "slide_type": "subslide"
    }
   },
   "source": [
    "### Goals & Criteria\n",
    "\n",
    "LK is a *tour improvement* not a *tour construction* heuristic (assume a starting tour)\n",
    "\n",
    "Our goal is to find the best sets of edges $X = \\{x_1,x_2,...,x_k\\}$, $Y = \\{y_1,y_2,...,y_k\\}$ for some $k$\n",
    "\n",
    "We'll do this by incrementally considering additional edges"
   ]
  },
  {
   "cell_type": "markdown",
   "metadata": {
    "slideshow": {
     "slide_type": "subslide"
    }
   },
   "source": [
    "**Gain Criterion:** We only consider a new edge pair $(x_i,y_i)$ if our total improvement $G_i$ is as given below,\n",
    "\n",
    "$$\n",
    "G_i = \\sum_\\limits{j=1}^i{g_j} = \\sum_\\limits{j=1}^i \\left( c_{x_j} - c_{y_j} \\right) > 0\n",
    "$$\n",
    "\n",
    "**Stopping Criterion:** We stop immediately once $G_i \\leq 0$ for some $i$\n",
    "\n",
    "**Feasibility Criterion:** We only consider a new edge pair if it allows us to maintain a valid tour by \"closing up\""
   ]
  },
  {
   "cell_type": "markdown",
   "metadata": {
    "slideshow": {
     "slide_type": "subslide"
    }
   },
   "source": [
    "<center>\n",
    "<img src=\"fig/mak_and_morton_lkh.png\" width=1000 />\n",
    "<p style=\"text-align: center; font-size: 0.5em;\">[Mak and Morton, 1991]</p>\n",
    "</center>"
   ]
  },
  {
   "cell_type": "markdown",
   "metadata": {
    "slideshow": {
     "slide_type": "subslide"
    }
   },
   "source": [
    "### Pseudocode for Lin-Kernighan Heuristic\n",
    "\n",
    "<pre style='font-size: 0.4em; line-height: 1.5;'><code>\n",
    "T = randomTour(pts)\n",
    "bigG = 0\n",
    "\n",
    "while (there are still cities left to be tested) {\n",
    "\n",
    "    t1 = our starting city\n",
    "    x1 = one of the edges of t1\n",
    "    y1 = a suitable replacement edge for x1\n",
    "        if (no y1 exists) {goto: backtracking}\n",
    "\n",
    "    bigG = bigG + costDiff(x1, y1)\n",
    "    i = 2\n",
    "\n",
    "    while (bigG > 0) {\n",
    "\n",
    "        x_i = find_next_x(t1, y_(i-1), Y, T)\n",
    "        y_i = find_next_y(x_i, bigG, X, T)\n",
    "            if (no y_i exists) {goto: backtracking}\n",
    "\n",
    "        if (closing up now is best bigG we've seen) {\n",
    "            k = i   // Record it\n",
    "         }\n",
    "\n",
    "         bigG = bigG + costDiff(x_i, y_i)\n",
    "    }\n",
    "   t1 = next(t1,T)\n",
    "}\n",
    "\n",
    "T' = swap(X,Y,k)\n",
    "return T'\n",
    "\n",
    "backtracking: some very involved but not very enlightening backtracking\n",
    "</code></pre>"
   ]
  },
  {
   "cell_type": "markdown",
   "metadata": {
    "slideshow": {
     "slide_type": "subslide"
    }
   },
   "source": [
    "### Lin-Kernighan Results\n",
    "\n",
    "For small-ish sized problems ($N \\leq 42$), optimum solutions were achieved in a single trial with probability 1\n",
    "\n",
    "For all tested instances with $N \\leq 110$, the algorithm produced an optimal solution if allowed to run in ~$O(N^2)$\n",
    "\n",
    "Why $O(N^2)$?"
   ]
  },
  {
   "cell_type": "markdown",
   "metadata": {
    "slideshow": {
     "slide_type": "subslide"
    }
   },
   "source": [
    "For each city, the search for sets $X$,$Y$ of edges is a slow growing function of $N$, let it be $d(N)$\n",
    "\n",
    "Updating the tour data structure as we find edges costs a factor of $N$\n",
    "\n",
    "Since we check each city for possible improvements, we have to contribute another factor of $N$\n",
    "\n",
    "Hence, the expected runtime is $O(N^2 d(N))$  (observed runtimes grew at approximately $O(N^{2.2})$) "
   ]
  },
  {
   "cell_type": "markdown",
   "metadata": {
    "slideshow": {
     "slide_type": "subslide"
    }
   },
   "source": [
    "### Derivatives of the Lin-Kernighan Heuristic\n",
    "\n",
    "Modified Lin-Kernighan [Mak and Morton, 1991]\n",
    "\n",
    "Chained Lin-Kernighan [Martin and Felten, 1991]"
   ]
  },
  {
   "cell_type": "markdown",
   "metadata": {
    "slideshow": {
     "slide_type": "subslide"
    }
   },
   "source": [
    "### Mak & Morton MLK Heuristic\n",
    "\n",
    "King-Tim Mak & Andrew Morton noticed that the LK heuristic was not being utilized in OR due to its complexity and that even those who did were rarely able to attain the results achieved by LK themselves\n",
    "\n",
    "They devoloped a simplified version of LK called *Modified Lin-Kernighan*"
   ]
  },
  {
   "cell_type": "markdown",
   "metadata": {
    "slideshow": {
     "slide_type": "fragment"
    }
   },
   "source": [
    "It is NOT variable *k-opt*, MLK is fixed at 2-opts only\n",
    "\n",
    "It can be implemented in less than 100 lines of code"
   ]
  },
  {
   "cell_type": "markdown",
   "metadata": {
    "slideshow": {
     "slide_type": "subslide"
    }
   },
   "source": [
    "### MLK Overview\n",
    "\n",
    "Fix an edge, then find the best *2-opt* that can be performed by probing other edges as candidates\n",
    "\n",
    "When a suitable candidate is found, we consider the edges that would be our replacements and choose one to be used as the starting candidate edge in the next iteration.\n",
    "\n",
    "Rinse and repeat."
   ]
  },
  {
   "cell_type": "markdown",
   "metadata": {
    "slideshow": {
     "slide_type": "subslide"
    }
   },
   "source": [
    "<img style=\"float: left; margin-top:15%\" src=\"fig/mak_and_morton_sym.png\" width=500 />\n",
    "<img style=\"float: right;\" src=\"fig/mak_and_morton_mlk.png\" width=500 />"
   ]
  },
  {
   "cell_type": "markdown",
   "metadata": {
    "slideshow": {
     "slide_type": "-"
    }
   },
   "source": [
    "<center><p style=\"text-align: center; font-size: 0.5em;\">[Mak and Morton, 1993]</p></center>"
   ]
  },
  {
   "cell_type": "markdown",
   "metadata": {
    "slideshow": {
     "slide_type": "subslide"
    }
   },
   "source": [
    "### Mak & Morton MLK Pseudocode\n",
    "\n",
    "<pre style='font-size: 0.5em; line-height: 1.5;'><code>\n",
    "    T = randTour(pts)\n",
    "    t1 = some city in T\n",
    "    i = 1\n",
    "    linkBase = x1 = edge from t1 to t2\n",
    "    bestGain = 0\n",
    "    cumGain = []\n",
    "    \n",
    "    while (testGain(i) > bestGain) {\n",
    "    \n",
    "        probe = bestProbe(linkBase,T)\n",
    "        z_i = edge(head(linkBase), head(probe))\n",
    "        y_i = edge(tail(linkBase), tail(probe))\n",
    "        \n",
    "        nextlinkBase = lessGainful(z_i, y_i, linkBase, probe)\n",
    "        T = two_opt(linkBase,probe)\n",
    "        cumGain[i] = cumGain[i] + costDiff(z_i,linkBase) + costDiff(y_i,probe)\n",
    "        \n",
    "        bestGain = max(cumGain)\n",
    "        linkBase = nextlinkBase\n",
    "        i = i + 1\n",
    "    }\n",
    "</code></pre>"
   ]
  },
  {
   "cell_type": "markdown",
   "metadata": {
    "slideshow": {
     "slide_type": "subslide"
    }
   },
   "source": [
    "### MLK Results\n",
    "\n",
    "Mak & Morton found that on average, MLK produced tours that were within *2-4%* of the optimal solution\n",
    "\n",
    "With some refinements (limiting search of probe edge, added backtracking), they were able to achieve an average of at most *2.5%* above optimal\n",
    "\n",
    "They observed run times that grew with $O(N^{1.5})$, a respectable improvement over LK"
   ]
  },
  {
   "cell_type": "markdown",
   "metadata": {
    "slideshow": {
     "slide_type": "slide"
    }
   },
   "source": [
    "### Chained Lin-Kernighan\n",
    "\n",
    "Lin-Kernighan is great and all, but it could be utilized much more effectively.\n",
    "\n",
    "Standard LK practice it to perform many trials, each on a random initial tour, and look for the minimum.\n",
    "\n",
    "What if we feed our resulting tour from an LK run back into LK?"
   ]
  },
  {
   "cell_type": "markdown",
   "metadata": {
    "slideshow": {
     "slide_type": "subslide"
    }
   },
   "source": [
    "This type of process is referred to as a *Markov chain*\n",
    "\n",
    "A restriction on Markov chains (in this context) is that the $i^{th}$ tour is constructed only from the $(i-1)^{th}$ tour"
   ]
  },
  {
   "cell_type": "markdown",
   "metadata": {
    "slideshow": {
     "slide_type": "fragment"
    }
   },
   "source": [
    "LK is a good candidate for this type of procedure because it tends to produce only a small number of distinct tours, close to the optimum\n",
    "\n",
    "Because they produce so few solutions, they limit the search space dramatically"
   ]
  },
  {
   "cell_type": "markdown",
   "metadata": {
    "slideshow": {
     "slide_type": "subslide"
    }
   },
   "source": [
    "<center><img src=\"fig/chained_LK_prob_curve.png\" width=800 /></center>"
   ]
  },
  {
   "cell_type": "markdown",
   "metadata": {
    "slideshow": {
     "slide_type": "fragment"
    }
   },
   "source": [
    "<center><p style=\"text-align: center; font-size: 0.5em;\">[Martin et. all 1991]</p></center>"
   ]
  },
  {
   "cell_type": "markdown",
   "metadata": {
    "slideshow": {
     "slide_type": "subslide"
    }
   },
   "source": [
    "### Chained Lin-Kernighan Outline\n",
    "\n",
    "Assume the current tour is called *start*\n",
    "\n",
    "Kick *start* by applying a double-bridge swap (call this new tour *intermediate*)\n",
    "\n",
    "Apply Lin-Kernighan to *intermediate* (call this new tour *trial*)\n",
    "\n",
    "If $cost(trial) < cost(start)$, we continue\n",
    "\n",
    "Repeat this many times"
   ]
  },
  {
   "cell_type": "markdown",
   "metadata": {
    "slideshow": {
     "slide_type": "subslide"
    }
   },
   "source": [
    "<center><img src=\"fig/chained_LK_markov_process.png\" width=800 /></center>"
   ]
  },
  {
   "cell_type": "markdown",
   "metadata": {
    "slideshow": {
     "slide_type": "fragment"
    }
   },
   "source": [
    "<center><p style=\"text-align: center; font-size: 0.5em;\">[Martin et. all 1991]</p></center>"
   ]
  },
  {
   "cell_type": "markdown",
   "metadata": {
    "slideshow": {
     "slide_type": "subslide"
    }
   },
   "source": [
    "<center><img src=\"fig/chained_LK_double_bridge.png\" width=800 /></center>"
   ]
  },
  {
   "cell_type": "markdown",
   "metadata": {
    "slideshow": {
     "slide_type": "fragment"
    }
   },
   "source": [
    "<center><p style=\"text-align: center; font-size: 0.5em;\">[Martin et. all 1991]</p></center>"
   ]
  },
  {
   "cell_type": "markdown",
   "metadata": {
    "slideshow": {
     "slide_type": "subslide"
    }
   },
   "source": [
    "### Chained Lin-Kernighan Results\n",
    "\n",
    "Tested 20 random scatter Euclidean instances with $N$ = 50, 100, 200, 300, 400, and 500\n",
    "\n",
    "\n",
    "They observed that an exponential fit of the runtimes gave ~$O(N^{1.5})$ and they predicted worst case at $O(N^2)$\n",
    "\n",
    "For $N \\leq 200$ chained LK found the optimum in less than 5 minutes"
   ]
  },
  {
   "cell_type": "markdown",
   "metadata": {
    "slideshow": {
     "slide_type": "slide"
    }
   },
   "source": [
    "## The Ant Colony System"
   ]
  },
  {
   "cell_type": "markdown",
   "metadata": {
    "slideshow": {
     "slide_type": "slide"
    }
   },
   "source": [
    "![](fig/deneubourg_1989_no_food.png)\n",
    "<p style=\"text-align: center; font-size: 0.5em;\">[Deneubourg et al., 1989]</p>"
   ]
  },
  {
   "cell_type": "markdown",
   "metadata": {
    "slideshow": {
     "slide_type": "subslide"
    }
   },
   "source": [
    "<center><img src=\"fig/deneubourg_1989_diamond.png\" width=800 /></center>\n",
    "<p style=\"text-align: center; font-size: 0.5em;\">[Deneubourg et al., 1989]</p>"
   ]
  },
  {
   "cell_type": "code",
   "execution_count": 2,
   "metadata": {
    "collapsed": false,
    "scrolled": false,
    "slideshow": {
     "slide_type": "subslide"
    }
   },
   "outputs": [
    {
     "data": {
      "text/html": [
       "<center><iframe width=\"800\" height=\"600\" src=\"https://www.youtube.com/embed/gPK4Oi2x0mQ\" frameborder=\"0\" allowfullscreen></iframe></center>"
      ],
      "text/plain": [
       "<IPython.core.display.HTML object>"
      ]
     },
     "execution_count": 2,
     "metadata": {},
     "output_type": "execute_result"
    }
   ],
   "source": [
    "HTML('<center><iframe width=\"800\" height=\"600\" src=\"https://www.youtube.com/embed/gPK4Oi2x0mQ\" frameborder=\"0\" allowfullscreen></iframe></center>')"
   ]
  },
  {
   "cell_type": "markdown",
   "metadata": {},
   "source": [
    "<p style=\"text-align: center; font-size: 0.5em;\">Network of exploratory trails in Argentine ants (short) by SwarmLabNJIT on YouTube [Perna et al., 2012]</p>"
   ]
  },
  {
   "cell_type": "markdown",
   "metadata": {
    "slideshow": {
     "slide_type": "subslide"
    }
   },
   "source": [
    "### Ant Colony System\n",
    "\n",
    "**Ant System** proposed by Marco Dorigo in 1992 PhD Thesis\n",
    "\n",
    "> M. Dorigo, Optimization, Learning and Natural Algorithms, PhD thesis, Politecnico di Milano, Italy, 1992.\n",
    "\n",
    "Dorigo still in swarm intelligence field\n",
    "- IEEE Frank Rosenblatt Award\n",
    "- King of Belgium conferred \"FNRS - Dr A. De Leeuw-Damry-Bourlart award in Applied Sciences\"\n",
    "- European Commission's \"Marie Curie Excellence Award\"\n",
    "\n",
    "**Ant Colony System** 1997, more reinforcement in state transition, global update rules (more on this later)"
   ]
  },
  {
   "cell_type": "markdown",
   "metadata": {
    "slideshow": {
     "slide_type": "slide"
    }
   },
   "source": [
    "### Making your own exploring ant colony: a step by step guide"
   ]
  },
  {
   "cell_type": "markdown",
   "metadata": {
    "slideshow": {
     "slide_type": "subslide"
    }
   },
   "source": [
    "- Initialise\n",
    "- For many rounds\n",
    "    - For each step in a complete tour\n",
    "        - Have each ant take a step\n",
    "        - Ants affect pheromones on edges they took\n",
    "    - Update pheromones on edges in best tour so far\n",
    "- Stop if\n",
    "    - No improvement for a while\n",
    "    - Ran out of preset number of rounds"
   ]
  },
  {
   "cell_type": "code",
   "execution_count": 3,
   "metadata": {
    "collapsed": true,
    "slideshow": {
     "slide_type": "skip"
    }
   },
   "outputs": [],
   "source": [
    "Q_0 = 0.9\n",
    "RHO = 0.1\n",
    "ALPHA = 0.1\n",
    "BETA = 2\n",
    "\n",
    "def generate_cities(number):\n",
    "    \n",
    "    # generate random coordinates for cities in a 2d plane\n",
    "    coordinates = np.random.uniform(size=[number,2])\n",
    "    \n",
    "    # find distances between all possible pairs of cities\n",
    "    adj_mat = np.diag( np.inf * np.ones(number) )\n",
    "    for i in xrange(number):\n",
    "        for j in xrange(i+1,number):\n",
    "            adj_mat[i,j] = np.sqrt( (coordinates[i,0] - coordinates[j,0])**2 \\\n",
    "                                  + (coordinates[i,1] - coordinates[j,1])**2 )\n",
    "    # be lazy. exploit symmetry.\n",
    "    adj_mat += adj_mat.T\n",
    "    \n",
    "    return coordinates, adj_mat\n",
    "\n",
    "def generate_tour_tracker(cities, ants):\n",
    "    Ts = -np.ones([ants, cities])\n",
    "    starts = generate_starts(cities, ants)\n",
    "    Ts[xrange(ants), starts] = 0\n",
    "    return Ts.astype(int)\n",
    "\n",
    "def reset_tour_lengths(ants):\n",
    "    return np.zeros(ants)\n",
    "\n",
    "def close_loop():\n",
    "    global tour_lengths\n",
    "    global DISTANCES\n",
    "    \n",
    "    starts = Ts.argmin(axis=1)\n",
    "    ends = Ts.argmax(axis=1)\n",
    "    tour_lengths += DISTANCES[ends, starts]\n",
    "\n",
    "def update_global_best():\n",
    "    global global_best_tours\n",
    "    global global_best_tour_lengths\n",
    "    \n",
    "    best_tour_length = tour_lengths.min()\n",
    "    if best_tour_length + 1e-5 < global_best_tour_lengths[-1]: # add small constant for numerical stability\n",
    "        best_ant = tour_lengths.argmin()\n",
    "        best_tour = Ts[best_ant,:]\n",
    "        global_best_tours = np.append( global_best_tours, np.array( sorted( zip( best_tour, xrange(len(best_tour))), \\\n",
    "                                       key=lambda x: x[0])).T[1].reshape([1,CITIES]), axis=0 ).astype(int)\n",
    "        global_best_tour_lengths = np.append(global_best_tour_lengths, best_tour_length)\n",
    "\n",
    "def plot_tour(x):\n",
    "    plt.clf()\n",
    "    xs, ys = COORDINATES[ np.append(global_best_tours[x,:], global_best_tours[x,0]), :].T\n",
    "    plt.axis('equal')\n",
    "    plt.plot(COORDINATES.T[0], COORDINATES.T[1], 'o')\n",
    "    plt.plot(xs, ys, '-')\n",
    "    plt.title('Tour length ' + str(global_best_tour_lengths[x]))\n",
    "    plt.show()"
   ]
  },
  {
   "cell_type": "markdown",
   "metadata": {
    "slideshow": {
     "slide_type": "slide"
    }
   },
   "source": [
    "### Once more, with Math"
   ]
  },
  {
   "cell_type": "markdown",
   "metadata": {
    "slideshow": {
     "slide_type": "subslide"
    }
   },
   "source": [
    "#### Step 1: Initialise"
   ]
  },
  {
   "cell_type": "markdown",
   "metadata": {
    "slideshow": {
     "slide_type": "fragment"
    }
   },
   "source": [
    "Send $m$ ants out into the world to find a Hamiltonian path (i.e. a tour) between $n$ nodes"
   ]
  },
  {
   "cell_type": "markdown",
   "metadata": {
    "slideshow": {
     "slide_type": "fragment"
    }
   },
   "source": [
    "In each iteration, each ant completes a tour over times $j \\in \\{ 0, 1, 2, \\ldots n - 1 \\}$"
   ]
  },
  {
   "cell_type": "markdown",
   "metadata": {
    "slideshow": {
     "slide_type": "fragment"
    }
   },
   "source": [
    "Repeat for multiple iterations $i \\in I$"
   ]
  },
  {
   "cell_type": "markdown",
   "metadata": {
    "slideshow": {
     "slide_type": "subslide"
    }
   },
   "source": [
    "Let $X_j^{(k)}$ be the node ant $k$ is at time $j \\in 0, 1, 2, \\ldots, n - 1$ for the present iteration\n",
    "\n",
    "Choose a random starting position for each ant:"
   ]
  },
  {
   "cell_type": "markdown",
   "metadata": {
    "slideshow": {
     "slide_type": "fragment"
    }
   },
   "source": [
    "$$\n",
    "\\left\\{X_0^{(k)}\\right\\}_{k=1}^m \\sim \\text{Multinomial} \\left( \\left\\{\\frac{1}{|N|} \\right\\}_{n \\in N}, m \\right)\n",
    "$$"
   ]
  },
  {
   "cell_type": "code",
   "execution_count": 4,
   "metadata": {
    "collapsed": true,
    "slideshow": {
     "slide_type": "fragment"
    }
   },
   "outputs": [],
   "source": [
    "def generate_starts(cities, ants):\n",
    "    return np.random.choice(xrange(cities), size=ants)"
   ]
  },
  {
   "cell_type": "markdown",
   "metadata": {
    "slideshow": {
     "slide_type": "subslide"
    }
   },
   "source": [
    "#### Step 2: Tour Building"
   ]
  },
  {
   "cell_type": "markdown",
   "metadata": {
    "slideshow": {
     "slide_type": "subslide"
    }
   },
   "source": [
    "##### State transition rule\n",
    "\n",
    "aka how does an ant choose the next node to visit?"
   ]
  },
  {
   "cell_type": "markdown",
   "metadata": {
    "slideshow": {
     "slide_type": "fragment"
    }
   },
   "source": [
    "- cost of edges\n",
    "- pheromones on edges\n",
    "- chance"
   ]
  },
  {
   "cell_type": "markdown",
   "metadata": {
    "slideshow": {
     "slide_type": "subslide"
    }
   },
   "source": [
    "### Key Idea\n",
    "\n",
    "Exploration vs. Exploitation"
   ]
  },
  {
   "cell_type": "markdown",
   "metadata": {
    "slideshow": {
     "slide_type": "subslide"
    }
   },
   "source": [
    "Introduce tuning parameter $q_0 \\in [0,1]$ and $q \\sim \\mathcal{U}(0,1)$ such that\n",
    "\n",
    "$$\n",
    "\\text{Next Action} =\n",
    "\\begin{cases}\n",
    "\\text{Exploitation} & q \\leq q_0\\\\\n",
    "\\text{(Biased) Exploration} & q > q_0\n",
    "\\end{cases}\n",
    "$$\n",
    "\n",
    "$q_0 = 0.9$ in Dorigo & Gambardella, 1997"
   ]
  },
  {
   "cell_type": "markdown",
   "metadata": {
    "slideshow": {
     "slide_type": "subslide"
    }
   },
   "source": [
    "Specifically?"
   ]
  },
  {
   "cell_type": "markdown",
   "metadata": {
    "slideshow": {
     "slide_type": "fragment"
    }
   },
   "source": [
    "$\\delta(a,b)$ the true cost of traversing $(a,b)$\n",
    "\n",
    "$\\eta(a,b) = \\frac{1}{\\delta(a,b)}$ the heuristic value for $(a,b)$\n",
    "\n",
    "$\\tau(a,b)$ the amount of pheromone on $(a,b)$\n",
    "\n",
    "$\\beta > 0$ a parameter for the relative importances of cost $\\delta(a,b)$ and pheromone $\\tau(a,b)$."
   ]
  },
  {
   "cell_type": "markdown",
   "metadata": {
    "slideshow": {
     "slide_type": "subslide"
    }
   },
   "source": [
    "Define a **desirability score** for the edge from node $a$ to node $b$\n",
    "\n",
    "$$\n",
    "\\Psi (a, b) := \\tau \\left( a, b \\right)\\left[ \\eta \\left( a, b \\right) \\right]^\\beta\n",
    "$$\n",
    "\n",
    "$\\beta = 2$ in Dorigo & Gambardella, 1997."
   ]
  },
  {
   "cell_type": "code",
   "execution_count": 5,
   "metadata": {
    "collapsed": true,
    "slideshow": {
     "slide_type": "fragment"
    }
   },
   "outputs": [],
   "source": [
    "def psi(a,b):\n",
    "    return taus[a,b] * ( ETAS[a,b] ** BETA )"
   ]
  },
  {
   "cell_type": "markdown",
   "metadata": {
    "slideshow": {
     "slide_type": "subslide"
    }
   },
   "source": [
    "Also define $U_{j}^{(k)}$, the set of unvisited nodes for ant $k$ at time $j$.\n",
    "\n",
    "If $q \\leq q_0$, the ant (deterministically) exploits what the colony has learnt\n",
    "\n",
    "$$\n",
    "X_{j+1}^{(k)} = \\underset{u \\in U_{j}^{(k)}}{\\arg\\max} ~ \\Psi \\left( X_{j}^{(k)}\\!, u \\right)\n",
    "$$"
   ]
  },
  {
   "cell_type": "markdown",
   "metadata": {
    "slideshow": {
     "slide_type": "fragment"
    }
   },
   "source": [
    "Else $q > q_0$ and the ant decides to do some exploration\n",
    "\n",
    "$$\n",
    "\\mathbb{P} \\left[ X_{j+1}^{(k)} = u \\right] =\n",
    "\\begin{cases}\n",
    "\\frac{\\Psi \\left( X_j^{(k)}, ~ u \\right)}{\\sum_{v \\in U_{j}^{(k)}} \\Psi \\left( X_j^{(k)}, ~ v \\right) } & u \\in U_{j}^{(k)} \\\\\n",
    "0 & u \\not\\in U_{j}^{(k)}\n",
    "\\end{cases}\n",
    "$$"
   ]
  },
  {
   "cell_type": "code",
   "execution_count": 6,
   "metadata": {
    "collapsed": true,
    "slideshow": {
     "slide_type": "subslide"
    }
   },
   "outputs": [],
   "source": [
    "def take_step(ant):\n",
    "    global DISTANCES\n",
    "    \n",
    "    current_node = Ts[ant,:].argmax()\n",
    "    unvisited_nodes = np.where(Ts[ant,:] == -1)[0]\n",
    "    \n",
    "    psis = np.array([psi(current_node, unvisited_node) \\\n",
    "                     for unvisited_node in unvisited_nodes])\n",
    "    \n",
    "    # decide whether to exploit or explore\n",
    "    q = np.random.uniform()\n",
    "    if q <= Q_0: # exploit\n",
    "        next_node = unvisited_nodes[ psis.argmax() ]\n",
    "    else: # explore\n",
    "        ps = psis / psis.sum()\n",
    "        next_node = np.random.choice(unvisited_nodes, p=ps)\n",
    "    \n",
    "    dist = DISTANCES[ current_node, next_node ]\n",
    "    tour_lengths[ant] += dist\n",
    "    \n",
    "    current_step = Ts[ant,:].max()\n",
    "    Ts[ant,next_node] = current_step + 1\n",
    "    \n",
    "    local_update_taus(current_node,next_node)"
   ]
  },
  {
   "cell_type": "markdown",
   "metadata": {
    "slideshow": {
     "slide_type": "subslide"
    }
   },
   "source": [
    "##### Local update rule\n",
    "\n",
    "aka how does an ant change $\\tau(a,b)$ as they traverse $(a,b)$?"
   ]
  },
  {
   "cell_type": "markdown",
   "metadata": {
    "slideshow": {
     "slide_type": "notes"
    }
   },
   "source": [
    "So-named because this is the update rule for single edges as the ants are building their tours"
   ]
  },
  {
   "cell_type": "markdown",
   "metadata": {
    "slideshow": {
     "slide_type": "fragment"
    }
   },
   "source": [
    "$$\n",
    "\\tau (a,b) \\leftarrow (1 - \\rho) \\, \\tau (a, b) + \\rho \\, \\tau_0\n",
    "$$"
   ]
  },
  {
   "cell_type": "markdown",
   "metadata": {
    "slideshow": {
     "slide_type": "fragment"
    }
   },
   "source": [
    "$\\rho \\in (0,1)$ a parameter representing the pheromone erosion rate; $\\rho = 0.1$ in the paper."
   ]
  },
  {
   "cell_type": "markdown",
   "metadata": {
    "slideshow": {
     "slide_type": "fragment"
    }
   },
   "source": [
    "$\\tau_0$ the initial value of $\\tau(a,b)$, at round 0"
   ]
  },
  {
   "cell_type": "code",
   "execution_count": 7,
   "metadata": {
    "collapsed": true,
    "slideshow": {
     "slide_type": "fragment"
    }
   },
   "outputs": [],
   "source": [
    "def local_update_taus(a,b):\n",
    "    taus[a,b] = (1 - RHO) * taus[a,b] + RHO * TAU_0"
   ]
  },
  {
   "cell_type": "markdown",
   "metadata": {
    "slideshow": {
     "slide_type": "subslide"
    }
   },
   "source": [
    "$\\tau_0 = \\frac{1}{n L_\\text{NN}}$ where $L_\\text{NN}$ is the tour length found by the nearest neighbours heuristic [Dorigo & Gambardella, 1997]"
   ]
  },
  {
   "cell_type": "code",
   "execution_count": 8,
   "metadata": {
    "collapsed": true,
    "slideshow": {
     "slide_type": "subslide"
    }
   },
   "outputs": [],
   "source": [
    "def find_tau_0(adj_mat):\n",
    "    \n",
    "    unvisited_nodes = np.ones(CITIES)\n",
    "    tour_length = 0\n",
    "    \n",
    "    # start by adding the shortest edge in the graph to tour\n",
    "    shortest_distance = adj_mat.min()\n",
    "    tour_length += shortest_distance\n",
    "    first_cities = np.where( adj_mat == shortest_distance )\n",
    "    start = first_cities[0][0]\n",
    "    end = first_cities[1][0]\n",
    "    unvisited_nodes[[start, end]] = 0\n",
    "    \n",
    "    for i in xrange(CITIES - 2):\n",
    "        # find the next shortest edge that's connected to one of the\n",
    "        # endpoints of the currently incomplete tour\n",
    "        valid_distances = adj_mat[ np.ix_([start, end], \\\n",
    "                              np.where(unvisited_nodes)[0]) ]\n",
    "        shortest_distance = valid_distances.min()\n",
    "        tour_length += shortest_distance\n",
    "        \n",
    "        next_city = np.where(valid_distances == shortest_distance)\n",
    "        origin = next_city[0][0]\n",
    "        destination = np.where(unvisited_nodes == 1)[0][next_city[1][0]]\n",
    "        if origin == 0:\n",
    "            start = destination\n",
    "        else:\n",
    "            end = destination\n",
    "        unvisited_nodes[destination] = 0\n",
    "    \n",
    "    return tour_length"
   ]
  },
  {
   "cell_type": "markdown",
   "metadata": {
    "slideshow": {
     "slide_type": "notes"
    }
   },
   "source": [
    "$L_\\text{NN}$ is supposed to represent a very rough approximation of tour length. $\\tau_0$ was obtained empirically in the paper and it wasn't explained why this is the optimal amount of pheromone to start with.\n",
    "\n",
    "Local update rule has the form of exponential smoothing\n",
    "\n",
    "Why erosion? Helps with promoting exploration. Edges with high tau at start of round will get eroded over time since it's more probable they'll be selected first, giving the low tau edges a chance to be explored once the high tau edges have been eroded enough. No erosion => easy trapping into local optima"
   ]
  },
  {
   "cell_type": "markdown",
   "metadata": {
    "slideshow": {
     "slide_type": "subslide"
    }
   },
   "source": [
    "##### Local update rule\n",
    "\n",
    "aka how does an ant change $\\tau(a,b)$ as they traverse $(a,b)$?\n",
    "\n",
    "Interesting variant using Q-learning\n",
    "\n",
    "$$\n",
    "\\tau \\left( X_j^{(k)} , ~ X_{j+1}^{(k)} \\right) \\leftarrow (1 - \\rho) ~ \\tau \\left( X_j^{(k)} , ~ X_{j+1}^{(k)} \\right) + \\rho \\max_{u \\in U_{j+1}^{(k)}} \\tau \\left( X_{j+1}^{(k)}, ~ u \\right)\n",
    "$$"
   ]
  },
  {
   "cell_type": "markdown",
   "metadata": {
    "slideshow": {
     "slide_type": "notes"
    }
   },
   "source": [
    "Q-learning: reinforcement learning by recursive application of the above exponential smoothing-like rule, but with \"discounted evaluation\" of the next state's value\n",
    "\n",
    "i.e. the larger the potential tau in the next state, the larger the update.\n",
    "\n",
    "Why interesting? Authors found that this rule worked about as well as the erosion rule we saw before, at greater computational cost. Would expect that taking into account future actions would help in getting good solution faster (because more exploitation), but apparently exploration wins out over exploitation here."
   ]
  },
  {
   "cell_type": "markdown",
   "metadata": {
    "slideshow": {
     "slide_type": "subslide"
    }
   },
   "source": [
    "#### Step 3: Sprint retrospective\n",
    "\n",
    "After each ant has completed their tour for the round, look back on the tours found."
   ]
  },
  {
   "cell_type": "markdown",
   "metadata": {
    "slideshow": {
     "slide_type": "subslide"
    }
   },
   "source": [
    "##### Global Updates\n",
    "\n",
    "aka how does the colony reinforce good solutions?"
   ]
  },
  {
   "cell_type": "markdown",
   "metadata": {
    "slideshow": {
     "slide_type": "fragment"
    }
   },
   "source": [
    "$$\n",
    "\\tau (a,b) \\leftarrow\n",
    "\\begin{cases}\n",
    "(1 - \\alpha) \\, \\tau (a, b) + \\frac{\\alpha}{L_\\text{GB}} & (a,b) \\in \\text{global best tour} \\\\\n",
    "(1 - \\alpha) \\, \\tau (a, b) & \\text{otherwise}\n",
    "\\end{cases}\n",
    "$$"
   ]
  },
  {
   "cell_type": "markdown",
   "metadata": {
    "slideshow": {
     "slide_type": "fragment"
    }
   },
   "source": [
    "$\\alpha \\in (0,1)$ the pheromone decay parameter; $\\alpha = 0.1$ in the paper."
   ]
  },
  {
   "cell_type": "code",
   "execution_count": 9,
   "metadata": {
    "collapsed": false,
    "slideshow": {
     "slide_type": "subslide"
    }
   },
   "outputs": [],
   "source": [
    "def global_update_taus():\n",
    "    global taus\n",
    "    global global_best_tours\n",
    "    global global_best_tour_lengths\n",
    "    \n",
    "    taus = (1 - ALPHA) * taus\n",
    "    for i in xrange(global_best_tours.shape[1] - 1):\n",
    "        a = global_best_tours[-1, i]\n",
    "        b = global_best_tours[-1, i+1]\n",
    "        taus[a,b] += ALPHA / global_best_tour_lengths[-1]\n",
    "    taus[global_best_tours[-1,-1], global_best_tours[-1,0]] \\\n",
    "        += ALPHA / global_best_tour_lengths[-1]"
   ]
  },
  {
   "cell_type": "markdown",
   "metadata": {
    "slideshow": {
     "slide_type": "notes"
    }
   },
   "source": [
    "Again with the exponential smoothing form\n",
    "\n",
    "global best: best tour found in all rounds so far.\n",
    "\n",
    "shorter tours => more pheromone. reinforces short tours."
   ]
  },
  {
   "cell_type": "markdown",
   "metadata": {
    "slideshow": {
     "slide_type": "slide"
    }
   },
   "source": [
    "### Putting it all together"
   ]
  },
  {
   "cell_type": "code",
   "execution_count": 10,
   "metadata": {
    "collapsed": true,
    "slideshow": {
     "slide_type": "subslide"
    }
   },
   "outputs": [],
   "source": [
    "# initialise everything\n",
    "\n",
    "ANTS = 10\n",
    "CITIES = 50\n",
    "ITERATIONS = 100\n",
    "\n",
    "COORDINATES, DISTANCES = generate_cities(CITIES)\n",
    "ETAS = 1.0 / DISTANCES\n",
    "TAU_0 = 1.0 / ( CITIES * find_tau_0(DISTANCES) )\n",
    "taus = TAU_0 * np.ones([CITIES,CITIES])\n",
    "global_best_tours = np.zeros([1,CITIES])\n",
    "global_best_tour_lengths = np.array([np.inf])"
   ]
  },
  {
   "cell_type": "code",
   "execution_count": 11,
   "metadata": {
    "collapsed": false,
    "slideshow": {
     "slide_type": "subslide"
    }
   },
   "outputs": [
    {
     "name": "stderr",
     "output_type": "stream",
     "text": [
      "100%|██████████| 100/100 [00:02<00:00, 34.09it/s]\n"
     ]
    }
   ],
   "source": [
    "for i in tqdm(xrange(ITERATIONS)):\n",
    "    Ts = generate_tour_tracker(CITIES, ANTS)\n",
    "    tour_lengths = reset_tour_lengths(ANTS)\n",
    "    # get ants to each complete a tour\n",
    "    for step in xrange(CITIES - 1):\n",
    "        for ant in xrange(ANTS):\n",
    "            # take a step and do the local update\n",
    "            take_step(ant)\n",
    "    close_loop()\n",
    "    update_global_best()\n",
    "    # do the global update\n",
    "    global_update_taus()"
   ]
  },
  {
   "cell_type": "code",
   "execution_count": 12,
   "metadata": {
    "collapsed": false,
    "slideshow": {
     "slide_type": "subslide"
    }
   },
   "outputs": [
    {
     "data": {
      "image/png": "[encoded data removed]",
      "text/plain": [
       "<matplotlib.figure.Figure at 0x10a724950>"
      ]
     },
     "metadata": {},
     "output_type": "display_data"
    },
    {
     "data": {
      "text/plain": [
       "<function __main__.plot_tour>"
      ]
     },
     "execution_count": 12,
     "metadata": {},
     "output_type": "execute_result"
    }
   ],
   "source": [
    "int_slider = IntSlider(value=1, min=1, max=len(global_best_tour_lengths) - 1)\n",
    "int_slider.layout.width = '70%'\n",
    "interact(plot_tour, x=int_slider)"
   ]
  },
  {
   "cell_type": "markdown",
   "metadata": {
    "slideshow": {
     "slide_type": "slide"
    }
   },
   "source": [
    "## <strike>The Future</strike> What future?!?!?!"
   ]
  },
  {
   "cell_type": "markdown",
   "metadata": {
    "slideshow": {
     "slide_type": "subslide"
    }
   },
   "source": [
    "### The Field\n",
    "\n",
    "**TSPLIB:** SOLVED (and a 530 million city instance...)\n",
    "\n",
    "**On P ?= NP** Graph Isomorphism in Quasipolynomial Time, László Babai, 2015\n",
    "\n",
    "- https://arxiv.org/abs/1512.03547\n",
    "- http://people.cs.uchicago.edu/~laci/2015-11-10talk.mp4\n",
    "\n",
    "**Reinforcement learning** TSP for Multi-Armed Bandit problem? Thompson Sampling for TSP?"
   ]
  },
  {
   "cell_type": "markdown",
   "metadata": {
    "nbpresent": {
     "id": "9e635211-09e2-4c58-a9a5-385a556e2326"
    },
    "slideshow": {
     "slide_type": "subslide"
    }
   },
   "source": [
    "### For Colin\n",
    "Travel a bit after graduation. Would love to work in baseball analytics.\n",
    "\n",
    "### For Su\n",
    "??? in Machine Learning"
   ]
  },
  {
   "cell_type": "markdown",
   "metadata": {
    "slideshow": {
     "slide_type": "subslide"
    }
   },
   "source": [
    "### For You\n",
    "<br/>\n",
    "#### ANTS CHALLENGE\n",
    "Ants as tools to understand society\n",
    "\n",
    "> The goal of this challenge is to generate algorithms that can:\n",
    "\n",
    "> - identify and track individual ants over time\n",
    "\n",
    "> - recognize when ants engage in food transfer\n",
    "\n",
    "> ...\n",
    "\n",
    "> $5000 if the L_1 score of the best submission reaches >= 95%\n",
    "\n",
    "More information here: https://www.crowdai.org/challenges/ants-challenge-part-1"
   ]
  },
  {
   "cell_type": "markdown",
   "metadata": {
    "slideshow": {
     "slide_type": "slide"
    }
   },
   "source": [
    "    https://github.com/constellationcolon/teaspoons"
   ]
  },
  {
   "cell_type": "markdown",
   "metadata": {
    "nbpresent": {
     "id": "04fce4b3-ce71-42ac-b491-6518340e5a4c"
    },
    "slideshow": {
     "slide_type": "subslide"
    }
   },
   "source": [
    "# Questions?"
   ]
  }
 ],
 "metadata": {
  "anaconda-cloud": {},
  "celltoolbar": "Slideshow",
  "kernelspec": {
   "display_name": "Python [conda root]",
   "language": "python",
   "name": "conda-root-py"
  },
  "language_info": {
   "codemirror_mode": {
    "name": "ipython",
    "version": 2
   },
   "file_extension": ".py",
   "mimetype": "text/x-python",
   "name": "python",
   "nbconvert_exporter": "python",
   "pygments_lexer": "ipython2",
   "version": "2.7.12"
  },
  "nbpresent": {
   "slides": {
    "12890c14-6c99-4be1-85dd-a1bfef870ad3": {
     "id": "12890c14-6c99-4be1-85dd-a1bfef870ad3",
     "prev": "479784d7-e41c-4468-b7b4-0f3bd041e128",
     "regions": {
      "dccd8419-bf50-403c-a4a2-785d5a7d265c": {
       "attrs": {
        "height": 0.8,
        "width": 0.8,
        "x": 0.1,
        "y": 0.1
       },
       "content": {
        "cell": "82a1675c-a101-4204-b5d2-5a2cb0029073",
        "part": "whole"
       },
       "id": "dccd8419-bf50-403c-a4a2-785d5a7d265c"
      }
     }
    },
    "13e6b623-ec06-49e2-8258-b3baa62debb9": {
     "id": "13e6b623-ec06-49e2-8258-b3baa62debb9",
     "prev": "1ccdf986-3b48-437e-a4b1-9ce83a1a7d5f",
     "regions": {
      "2b495cf7-22c1-4e29-92b1-da9fcc7376c3": {
       "attrs": {
        "height": 0.8,
        "width": 0.8,
        "x": 0.1,
        "y": 0.1
       },
       "content": {
        "cell": "9e635211-09e2-4c58-a9a5-385a556e2326",
        "part": "whole"
       },
       "id": "2b495cf7-22c1-4e29-92b1-da9fcc7376c3"
      }
     }
    },
    "14476b40-fb13-4d21-9c0c-716c0dba509e": {
     "id": "14476b40-fb13-4d21-9c0c-716c0dba509e",
     "prev": "2113ad9c-9954-447b-b7c9-788dded1ed3f",
     "regions": {
      "73932159-ee19-44e5-964c-b6c7bfc35670": {
       "attrs": {
        "height": 0.8,
        "width": 0.8,
        "x": 0.1,
        "y": 0.1
       },
       "content": {
        "cell": "bae50cbd-613d-421a-b078-e162230bfc9a",
        "part": "whole"
       },
       "id": "73932159-ee19-44e5-964c-b6c7bfc35670"
      }
     }
    },
    "1ccdf986-3b48-437e-a4b1-9ce83a1a7d5f": {
     "id": "1ccdf986-3b48-437e-a4b1-9ce83a1a7d5f",
     "prev": "f5dd3dbc-55dd-4875-a3e7-1b6fd4bcc51e",
     "regions": {
      "7bc30fff-b5bf-448b-8fbc-4c93874d4310": {
       "attrs": {
        "height": 0.8,
        "width": 0.8,
        "x": 0.1,
        "y": 0.1
       },
       "content": {
        "cell": "7fec18c4-7124-41fd-815d-c4fb44b10893",
        "part": "whole"
       },
       "id": "7bc30fff-b5bf-448b-8fbc-4c93874d4310"
      }
     }
    },
    "2113ad9c-9954-447b-b7c9-788dded1ed3f": {
     "id": "2113ad9c-9954-447b-b7c9-788dded1ed3f",
     "prev": "7ca3c787-3801-41f4-984b-22b92fadb7f6",
     "regions": {
      "dca8a725-1771-4f8c-ae54-a8fe55f31712": {
       "attrs": {
        "height": 0.8,
        "width": 0.8,
        "x": 0.1,
        "y": 0.1
       },
       "content": {
        "cell": "ee0c8189-1595-4ba7-b762-23d381c7ff4c",
        "part": "whole"
       },
       "id": "dca8a725-1771-4f8c-ae54-a8fe55f31712"
      }
     }
    },
    "2c6858ff-e371-4f0c-8255-f0bfb29c3b68": {
     "id": "2c6858ff-e371-4f0c-8255-f0bfb29c3b68",
     "prev": "12890c14-6c99-4be1-85dd-a1bfef870ad3",
     "regions": {
      "33848413-3926-42b2-995b-33f3eede2719": {
       "attrs": {
        "height": 0.8,
        "width": 0.8,
        "x": 0.1,
        "y": 0.1
       },
       "content": {
        "cell": "58929e69-7915-4d21-80eb-281c09ed8a22",
        "part": "whole"
       },
       "id": "33848413-3926-42b2-995b-33f3eede2719"
      }
     }
    },
    "479784d7-e41c-4468-b7b4-0f3bd041e128": {
     "id": "479784d7-e41c-4468-b7b4-0f3bd041e128",
     "prev": "fa2cbb61-3106-46bc-b6d8-e6ccf4ff0893",
     "regions": {
      "5eb38664-0108-4252-82ec-911318bc46d3": {
       "attrs": {
        "height": 0.8,
        "width": 0.8,
        "x": 0.1,
        "y": 0.1
       },
       "content": {
        "cell": "bff6b21b-625e-46d9-8039-2df6ad5a058d",
        "part": "whole"
       },
       "id": "5eb38664-0108-4252-82ec-911318bc46d3"
      }
     }
    },
    "7ca3c787-3801-41f4-984b-22b92fadb7f6": {
     "id": "7ca3c787-3801-41f4-984b-22b92fadb7f6",
     "prev": "a0adc573-c600-4b42-afa3-ae30fb4fa555",
     "regions": {
      "76c26bd2-e668-46b6-90cd-39b5194f604e": {
       "attrs": {
        "height": 0.8,
        "width": 0.8,
        "x": 0.1,
        "y": 0.1
       },
       "content": {
        "cell": "ec2c4b4a-173d-4edd-84d2-f5c3331e59be",
        "part": "whole"
       },
       "id": "76c26bd2-e668-46b6-90cd-39b5194f604e"
      }
     }
    },
    "856e558e-159c-460e-8365-625e33dca104": {
     "id": "856e558e-159c-460e-8365-625e33dca104",
     "prev": "13e6b623-ec06-49e2-8258-b3baa62debb9",
     "regions": {
      "4172f925-8324-478d-bbac-566af5a15601": {
       "attrs": {
        "height": 0.8,
        "width": 0.8,
        "x": 0.1,
        "y": 0.1
       },
       "content": {
        "cell": "04fce4b3-ce71-42ac-b491-6518340e5a4c",
        "part": "whole"
       },
       "id": "4172f925-8324-478d-bbac-566af5a15601"
      }
     }
    },
    "a0adc573-c600-4b42-afa3-ae30fb4fa555": {
     "id": "a0adc573-c600-4b42-afa3-ae30fb4fa555",
     "prev": null,
     "regions": {
      "647759a6-e14e-4403-b547-34b390a77447": {
       "attrs": {
        "height": 0.8,
        "width": 0.8,
        "x": 0.1,
        "y": 0.1
       },
       "content": {
        "cell": "216bfca4-dc8a-4ab8-b033-41af4f61089c",
        "part": "whole"
       },
       "id": "647759a6-e14e-4403-b547-34b390a77447"
      }
     },
     "theme": null
    },
    "f5dd3dbc-55dd-4875-a3e7-1b6fd4bcc51e": {
     "id": "f5dd3dbc-55dd-4875-a3e7-1b6fd4bcc51e",
     "prev": "2c6858ff-e371-4f0c-8255-f0bfb29c3b68",
     "regions": {
      "26a4917a-df08-4b09-8fba-202989d2680b": {
       "attrs": {
        "height": 0.8,
        "width": 0.8,
        "x": 0.1,
        "y": 0.1
       },
       "content": {
        "cell": "e6e7980b-d71f-4bc2-8607-c5342bbae3d2",
        "part": "whole"
       },
       "id": "26a4917a-df08-4b09-8fba-202989d2680b"
      }
     }
    },
    "fa2cbb61-3106-46bc-b6d8-e6ccf4ff0893": {
     "id": "fa2cbb61-3106-46bc-b6d8-e6ccf4ff0893",
     "prev": "14476b40-fb13-4d21-9c0c-716c0dba509e",
     "regions": {
      "14dbea4b-aaf4-485b-9f9e-a602690f115a": {
       "attrs": {
        "height": 0.8,
        "width": 0.8,
        "x": 0.1,
        "y": 0.1
       },
       "content": {
        "cell": "611b9d1e-b0fb-458b-9374-36fcf46b6d67",
        "part": "whole"
       },
       "id": "14dbea4b-aaf4-485b-9f9e-a602690f115a"
      }
     }
    }
   },
   "themes": {
    "default": "90192edb-6e5c-40a3-9edb-4c57a32286e5",
    "theme": {}
   }
  },
  "widgets": {
   "state": {
    "c8073f92ed4a44729d8428e3e05bd958": {
     "views": [
      {
       "cell_index": 92
      }
     ]
    }
   },
   "version": "1.2.0"
  }
 },
 "nbformat": 4,
 "nbformat_minor": 1
}
