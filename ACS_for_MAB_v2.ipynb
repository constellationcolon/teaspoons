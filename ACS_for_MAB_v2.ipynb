{
 "cells": [
  {
   "cell_type": "markdown",
   "metadata": {},
   "source": [
    "# Rationale"
   ]
  },
  {
   "cell_type": "markdown",
   "metadata": {},
   "source": [
    "ACS for MAB v1 was wayyy unsophisticated.\n",
    "\n",
    "New idea here is to have a directed (asymmetric TSP) graph, where each city has edges leading away from it that each represents an arm. Hence, for a k-arm MAB, we have k+1 cities.\n",
    "\n",
    "We also have to make sure that each set of same-$\\theta$-ed edges form a tour, such that the shortest tour indicates the shortest arm. i.e. $k$ tours out of a possible $(k-1)!$ actually represent arms.\n",
    "\n",
    "Denote the true thetas $\\left\\{ \\theta_i = \\frac{\\alpha_i}{\\beta_i} \\right\\}_{i=1}^k$.\n",
    "\n",
    "The cost for each edge leading out from an arbitrary node $u$ would be given by\n",
    "$$\n",
    "\\delta(u,v_i) = \\theta_i \\\\\n",
    "$$\n",
    "(note that the $i$ in the above expression is actually based on which $\\theta_i$ corresponds to which end node $v_i$, not the other way around)\n",
    "\n",
    "Then, using a $\\Gamma$ distribution\n",
    "$$\n",
    "\\mathbb{E} [\\delta(u, v_i)] = \\frac{\\alpha_i}{\\beta_i} \\\\\n",
    "\\implies \\beta = 10 e^{- \\theta_i}\n",
    "$$\n",
    "such that\n",
    "$$\n",
    "\\eta (u, v_i) \\sim \\Gamma ( \\alpha_i, \\beta_i )\n",
    "$$\n",
    "\n",
    "Above it, we just have Gamma bandits. Choose the edge $\\implies$ pull the arm. Now we have a valid way to quantify regret.\n"
   ]
  },
  {
   "cell_type": "markdown",
   "metadata": {},
   "source": [
    "# Les Codez"
   ]
  },
  {
   "cell_type": "code",
   "execution_count": 1,
   "metadata": {
    "collapsed": true
   },
   "outputs": [],
   "source": [
    "import numpy as np\n",
    "import matplotlib.pylab as plt\n",
    "%matplotlib notebook\n",
    "plt.style.use(['ggplot', 'seaborn-poster'])"
   ]
  },
  {
   "cell_type": "markdown",
   "metadata": {},
   "source": [
    "## MAB"
   ]
  },
  {
   "cell_type": "code",
   "execution_count": null,
   "metadata": {
    "collapsed": true
   },
   "outputs": [],
   "source": [
    "K = 100"
   ]
  },
  {
   "cell_type": "markdown",
   "metadata": {},
   "source": [
    "## ACS"
   ]
  },
  {
   "cell_type": "code",
   "execution_count": 60,
   "metadata": {
    "collapsed": true
   },
   "outputs": [],
   "source": [
    "ANTS = 10\n",
    "ITERATIONS = 100\n",
    "Q_0 = 0.9\n",
    "RHO = 0.1\n",
    "ALPHA = 0.1\n",
    "BETA = 2"
   ]
  },
  {
   "cell_type": "code",
   "execution_count": 3,
   "metadata": {
    "collapsed": false
   },
   "outputs": [],
   "source": [
    "TRUE_THETAS = np.random.uniform(size=K)"
   ]
  },
  {
   "cell_type": "code",
   "execution_count": 59,
   "metadata": {
    "collapsed": true
   },
   "outputs": [],
   "source": [
    "def generate_arm_tours(k):\n",
    "    \"\"\"\n",
    "    k: number of arms\n",
    "    k+1: number of cities\n",
    "    \"\"\"\n",
    "    U = -np.eye(k+1)\n",
    "    for i in xrange(k+1):\n",
    "        np.put(U[i,:], xrange(i+1, i+1+k), xrange(1,k+1), mode='wrap')\n",
    "    return U"
   ]
  },
  {
   "cell_type": "code",
   "execution_count": 61,
   "metadata": {
    "collapsed": true
   },
   "outputs": [],
   "source": [
    "def generate_starts():\n",
    "    return np.random.choice(xrange(ARMS), size=ANTS)"
   ]
  },
  {
   "cell_type": "code",
   "execution_count": null,
   "metadata": {
    "collapsed": true
   },
   "outputs": [],
   "source": []
  }
 ],
 "metadata": {
  "anaconda-cloud": {},
  "kernelspec": {
   "display_name": "Python [conda root]",
   "language": "python",
   "name": "conda-root-py"
  },
  "language_info": {
   "codemirror_mode": {
    "name": "ipython",
    "version": 2
   },
   "file_extension": ".py",
   "mimetype": "text/x-python",
   "name": "python",
   "nbconvert_exporter": "python",
   "pygments_lexer": "ipython2",
   "version": "2.7.12"
  }
 },
 "nbformat": 4,
 "nbformat_minor": 1
}
