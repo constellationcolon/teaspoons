{
 "cells": [
  {
   "cell_type": "markdown",
   "metadata": {},
   "source": [
    "# Rationale"
   ]
  },
  {
   "cell_type": "markdown",
   "metadata": {},
   "source": [
    "ACS for MAB v1 was wayyy unsophisticated.\n",
    "\n",
    "New idea here is to have a directed (asymmetric TSP) graph, where each city has edges leading away from it that each represents an arm. Hence, for a k-arm MAB, we have k+1 cities.\n",
    "\n",
    "We also have to make sure that each set of same-$\\theta$-ed edges form a tour, such that the shortest tour indicates the shortest arm. i.e. $k$ tours out of a possible $(k-1)!$ actually represent arms.\n",
    "\n",
    "Denote the true thetas $\\left\\{ \\theta_i = (\\alpha_i, \\beta_i) \\right\\}_{i=1}^k$. For purposes of experimental simplicity, let $\\alpha_i \\sim \\mathcal{U}(1,2)$ and $\\beta_i \\sim \\mathcal{U}(1,2)$.\n",
    "\n",
    "The cost for each edge leading out from an arbitrary node $u$ would be given by\n",
    "$$\n",
    "\\delta(u,v_i) = \\frac{\\alpha_i}{\\beta_i} \\\\\n",
    "$$\n",
    "(note that the $i$ in the above expression is actually based on which $\\theta_i$ corresponds to which end node $v_i$, not the other way around)\n",
    "\n",
    "Then, using a $\\Gamma$ distribution\n",
    "$$\n",
    "\\mathbb{E} [\\eta (u, v_i)] = \\frac{\\alpha_i}{\\beta_i} \\\\\n",
    "$$\n",
    "such that\n",
    "$$\n",
    "\\eta (u, v_i) \\sim \\Gamma ( \\alpha_i, \\beta_i )\n",
    "$$\n",
    "\n",
    "Above it, we just have Gamma bandits. Choose the edge $\\implies$ pull the arm. Now we have a valid way to quantify regret.\n"
   ]
  },
  {
   "cell_type": "markdown",
   "metadata": {},
   "source": [
    "# Les Codez"
   ]
  },
  {
   "cell_type": "code",
   "execution_count": 2,
   "metadata": {
    "collapsed": true
   },
   "outputs": [],
   "source": [
    "import numpy as np\n",
    "import matplotlib.pyplot as plt\n",
    "%matplotlib notebook\n",
    "plt.style.use(['ggplot', 'seaborn-poster'])\n",
    "from tqdm import tqdm"
   ]
  },
  {
   "cell_type": "markdown",
   "metadata": {},
   "source": [
    "## MAB"
   ]
  },
  {
   "cell_type": "code",
   "execution_count": 3,
   "metadata": {
    "collapsed": false
   },
   "outputs": [],
   "source": [
    "ARMS = 10"
   ]
  },
  {
   "cell_type": "markdown",
   "metadata": {},
   "source": [
    "## ACS"
   ]
  },
  {
   "cell_type": "markdown",
   "metadata": {},
   "source": [
    "### Initialize"
   ]
  },
  {
   "cell_type": "code",
   "execution_count": 4,
   "metadata": {
    "collapsed": true
   },
   "outputs": [],
   "source": [
    "NODES = ARMS + 1\n",
    "ANTS = 100\n",
    "ITERATIONS = 1000\n",
    "Q_0 = 0.0\n",
    "RHO = 0.1\n",
    "ALPHA = 1e-4\n",
    "BETA = 10"
   ]
  },
  {
   "cell_type": "code",
   "execution_count": 5,
   "metadata": {
    "collapsed": false
   },
   "outputs": [],
   "source": [
    "TRUE_ALPHAS = np.random.uniform(low=1, high=2, size=ARMS)\n",
    "# TRUE_BETAS = np.random.uniform(low=1, high=2, size=ARMS)\n",
    "TRUE_BETAS = np.sqrt( TRUE_ALPHAS / 0.01 )"
   ]
  },
  {
   "cell_type": "code",
   "execution_count": 6,
   "metadata": {
    "collapsed": true
   },
   "outputs": [],
   "source": [
    "def generate_arm_tours(k):\n",
    "    \"\"\"\n",
    "    which edge corresponds to which arm?\n",
    "    k: number of arms\n",
    "    k+1: number of cities\n",
    "    \"\"\"\n",
    "    A = -np.eye(k+1)\n",
    "    for i in xrange(k+1):\n",
    "        np.put(A[i,:], xrange(i+1, i+1+k), xrange(0,k), mode='wrap')\n",
    "    return A.astype(int)"
   ]
  },
  {
   "cell_type": "code",
   "execution_count": 7,
   "metadata": {
    "collapsed": false
   },
   "outputs": [],
   "source": [
    "def tour_length_nn():\n",
    "    \"\"\"\n",
    "    find approx tour length using nn heuristic\n",
    "    adapted for our scenario where we can only observe stochastic cost\n",
    "    \"\"\"\n",
    "    unvisited_nodes = set(xrange(NODES))\n",
    "    current_node = np.random.choice(xrange(NODES))\n",
    "    unvisited_nodes -= set([current_node])\n",
    "    total_cost = 0\n",
    "    for step in xrange(NODES-1):\n",
    "        current_arms = A[current_node,:]\n",
    "        costs = np.array([np.random.gamma(TRUE_ALPHAS[i], \\\n",
    "                                 1.0/TRUE_BETAS[i]) \\\n",
    "                          if i != -1 else np.inf \\\n",
    "                          for i in current_arms])\n",
    "        min_cost = costs[list(unvisited_nodes)].min()\n",
    "        min_arm = current_arms[np.where(costs == min_cost)]\n",
    "        total_cost += min_cost\n",
    "        current_node = np.where(current_arms == min_arm)[0][0]\n",
    "    return total_cost"
   ]
  },
  {
   "cell_type": "code",
   "execution_count": 8,
   "metadata": {
    "collapsed": true
   },
   "outputs": [],
   "source": [
    "def generate_starts():\n",
    "    return np.random.choice(xrange(NODES), size=ANTS)"
   ]
  },
  {
   "cell_type": "code",
   "execution_count": 9,
   "metadata": {
    "collapsed": false
   },
   "outputs": [],
   "source": [
    "def generate_tour_tracker():\n",
    "    Ts = -np.ones([ANTS, NODES])\n",
    "    starts = generate_starts()\n",
    "    Ts[xrange(ANTS), starts] = 0\n",
    "    return Ts.astype(int)"
   ]
  },
  {
   "cell_type": "code",
   "execution_count": 10,
   "metadata": {
    "collapsed": true
   },
   "outputs": [],
   "source": [
    "def reset_tour_lengths():\n",
    "    return np.zeros(ANTS)"
   ]
  },
  {
   "cell_type": "code",
   "execution_count": 11,
   "metadata": {
    "collapsed": true
   },
   "outputs": [],
   "source": [
    "def eta(a,b):\n",
    "    arm = A[a,b]\n",
    "    assert arm != -1, 'You done goofed. You returned to the same node.'\n",
    "    return np.random.gamma(TRUE_ALPHAS[arm], 1.0/TRUE_BETAS[arm])"
   ]
  },
  {
   "cell_type": "code",
   "execution_count": 12,
   "metadata": {
    "collapsed": true
   },
   "outputs": [],
   "source": [
    "def eta_psi(a,b):\n",
    "    \"\"\"\n",
    "    We need eta for calculating tour length (i.e. reward)\n",
    "    but it's stochastic so we need to pass it back to the ant\n",
    "    \"\"\"\n",
    "    cost = eta(a,b)\n",
    "    return cost, taus[a,b] * ( cost ** BETA )"
   ]
  },
  {
   "cell_type": "code",
   "execution_count": 13,
   "metadata": {
    "collapsed": true
   },
   "outputs": [],
   "source": [
    "def local_update_taus(a,b):\n",
    "    taus[a,b] = (1 - RHO) * taus[a,b] + RHO * TAU_0"
   ]
  },
  {
   "cell_type": "code",
   "execution_count": 14,
   "metadata": {
    "collapsed": true
   },
   "outputs": [],
   "source": [
    "def take_step(ant):\n",
    "    q = np.random.uniform()\n",
    "    current_node = Ts[ant,:].argmax()\n",
    "    unvisited_nodes = np.where(Ts[ant,:] == -1)[0]\n",
    "    eta_psis = np.array([eta_psi(current_node, unvisited_node) \\\n",
    "                    for unvisited_node in unvisited_nodes])\n",
    "    if q <= Q_0: # exploit\n",
    "        next_node = unvisited_nodes[ eta_psis[:,1].argmax() ]\n",
    "        eta = eta_psis[ eta_psis[:,1].argmax(), 0 ]\n",
    "    else: # explore\n",
    "        ps = eta_psis[:,1] / eta_psis[:,1].sum()\n",
    "        next_node = np.random.choice(unvisited_nodes, p=ps)\n",
    "        eta = eta_psis[ np.where(unvisited_nodes == next_node), 0 ]\n",
    "    tour_lengths[ant] += eta\n",
    "    current_step = Ts[ant,:].max()\n",
    "    Ts[ant,next_node] = current_step + 1\n",
    "    local_update_taus(current_node,next_node)"
   ]
  },
  {
   "cell_type": "code",
   "execution_count": 15,
   "metadata": {
    "collapsed": false
   },
   "outputs": [],
   "source": [
    "def update_global_best():\n",
    "    global global_best_tour_lengths\n",
    "    global global_best_tour\n",
    "\n",
    "    best_tour_length = tour_lengths.min()\n",
    "    if best_tour_length < global_best_tour_lengths[-1]:\n",
    "        best_ant = tour_lengths.argmin()\n",
    "        best_tour = Ts[best_ant,:]\n",
    "        global_best_tour = np.array( sorted( zip( best_tour, xrange(len(best_tour))), \\\n",
    "                                       key=lambda x: x[0])).T[1]\n",
    "        global_best_tour_lengths = np.append(global_best_tour_lengths, best_tour_length)"
   ]
  },
  {
   "cell_type": "code",
   "execution_count": 16,
   "metadata": {
    "collapsed": false
   },
   "outputs": [],
   "source": [
    "def global_update_taus():\n",
    "    global taus\n",
    "    global global_best_tour_lengths\n",
    "    taus = (1 - ALPHA) * taus\n",
    "    for i in xrange(len(global_best_tour) - 1):\n",
    "        a = global_best_tour[i]\n",
    "        b = global_best_tour[i+1]\n",
    "        taus[a,b] += ALPHA / global_best_tour_lengths[-1]\n",
    "    taus[global_best_tour[-1], global_best_tour[0]] += ALPHA / global_best_tour_lengths[-1]"
   ]
  },
  {
   "cell_type": "markdown",
   "metadata": {},
   "source": [
    "### Run it!"
   ]
  },
  {
   "cell_type": "code",
   "execution_count": 17,
   "metadata": {
    "collapsed": true
   },
   "outputs": [],
   "source": [
    "A = generate_arm_tours(ARMS)"
   ]
  },
  {
   "cell_type": "code",
   "execution_count": 18,
   "metadata": {
    "collapsed": false
   },
   "outputs": [],
   "source": [
    "TAU_0 = 1.0 / ( NODES * tour_length_nn() )"
   ]
  },
  {
   "cell_type": "code",
   "execution_count": 19,
   "metadata": {
    "collapsed": true
   },
   "outputs": [],
   "source": [
    "global_best_tour = np.zeros(NODES)\n",
    "global_best_tour_lengths = np.array([np.inf])\n",
    "taus = TAU_0 * np.ones(A.shape)"
   ]
  },
  {
   "cell_type": "code",
   "execution_count": 20,
   "metadata": {
    "collapsed": false
   },
   "outputs": [
    {
     "name": "stderr",
     "output_type": "stream",
     "text": [
      "100%|██████████| 1000/1000 [01:19<00:00, 12.60it/s]\n"
     ]
    }
   ],
   "source": [
    "for i in tqdm(xrange(ITERATIONS)):\n",
    "    Ts = generate_tour_tracker()\n",
    "    tour_lengths = reset_tour_lengths()\n",
    "    for step in xrange(NODES - 1):\n",
    "        for ant in xrange(ANTS):\n",
    "            take_step(ant)\n",
    "    update_global_best()\n",
    "    global_update_taus()"
   ]
  },
  {
   "cell_type": "code",
   "execution_count": 21,
   "metadata": {
    "collapsed": false
   },
   "outputs": [
    {
     "data": {
      "text/plain": [
       "array([        inf,  1.61875459,  1.39702746,  1.38089239,  1.33967161,\n",
       "        1.28252765])"
      ]
     },
     "execution_count": 21,
     "metadata": {},
     "output_type": "execute_result"
    }
   ],
   "source": [
    "global_best_tour_lengths"
   ]
  },
  {
   "cell_type": "code",
   "execution_count": 22,
   "metadata": {
    "collapsed": false
   },
   "outputs": [
    {
     "data": {
      "text/plain": [
       "array([ 9,  3,  6,  4,  5,  2,  1, 10,  0,  7,  8])"
      ]
     },
     "execution_count": 22,
     "metadata": {},
     "output_type": "execute_result"
    }
   ],
   "source": [
    "global_best_tour"
   ]
  },
  {
   "cell_type": "code",
   "execution_count": 23,
   "metadata": {
    "collapsed": false
   },
   "outputs": [
    {
     "data": {
      "text/plain": [
       "1.0333573795719644"
      ]
     },
     "execution_count": 23,
     "metadata": {},
     "output_type": "execute_result"
    }
   ],
   "source": [
    "# expected length of shortest tour\n",
    "(TRUE_ALPHAS / TRUE_BETAS).min() * ARMS"
   ]
  },
  {
   "cell_type": "code",
   "execution_count": 24,
   "metadata": {
    "collapsed": false
   },
   "outputs": [
    {
     "data": {
      "text/plain": [
       "1.2240002281954943"
      ]
     },
     "execution_count": 24,
     "metadata": {},
     "output_type": "execute_result"
    }
   ],
   "source": [
    "# expected length of an average tour\n",
    "(TRUE_ALPHAS / TRUE_BETAS).mean() * ARMS"
   ]
  },
  {
   "cell_type": "code",
   "execution_count": 25,
   "metadata": {
    "collapsed": false
   },
   "outputs": [],
   "source": [
    "regret = 0\n",
    "best_edges = np.where(A==(TRUE_ALPHAS / TRUE_BETAS).argmin())\n",
    "for i in xrange(ARMS):\n",
    "    a = global_best_tour[i]\n",
    "    b = global_best_tour[i+1]\n",
    "    if best_edges[1][a] != b:\n",
    "        regret += 1\n",
    "a = global_best_tour[-1]\n",
    "b = global_best_tour[0]\n",
    "if best_edges[1][a] != b:\n",
    "    regret += 1"
   ]
  },
  {
   "cell_type": "code",
   "execution_count": 26,
   "metadata": {
    "collapsed": false
   },
   "outputs": [
    {
     "data": {
      "text/plain": [
       "10"
      ]
     },
     "execution_count": 26,
     "metadata": {},
     "output_type": "execute_result"
    }
   ],
   "source": [
    "regret"
   ]
  },
  {
   "cell_type": "code",
   "execution_count": null,
   "metadata": {
    "collapsed": true
   },
   "outputs": [],
   "source": []
  },
  {
   "cell_type": "code",
   "execution_count": null,
   "metadata": {
    "collapsed": true
   },
   "outputs": [],
   "source": []
  },
  {
   "cell_type": "code",
   "execution_count": null,
   "metadata": {
    "collapsed": true
   },
   "outputs": [],
   "source": []
  },
  {
   "cell_type": "code",
   "execution_count": null,
   "metadata": {
    "collapsed": true
   },
   "outputs": [],
   "source": []
  },
  {
   "cell_type": "code",
   "execution_count": null,
   "metadata": {
    "collapsed": true
   },
   "outputs": [],
   "source": []
  },
  {
   "cell_type": "code",
   "execution_count": null,
   "metadata": {
    "collapsed": true
   },
   "outputs": [],
   "source": []
  }
 ],
 "metadata": {
  "anaconda-cloud": {},
  "kernelspec": {
   "display_name": "Python [conda root]",
   "language": "python",
   "name": "conda-root-py"
  },
  "language_info": {
   "codemirror_mode": {
    "name": "ipython",
    "version": 2
   },
   "file_extension": ".py",
   "mimetype": "text/x-python",
   "name": "python",
   "nbconvert_exporter": "python",
   "pygments_lexer": "ipython2",
   "version": "2.7.12"
  }
 },
 "nbformat": 4,
 "nbformat_minor": 1
}
