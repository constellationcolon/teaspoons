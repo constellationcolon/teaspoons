{
 "cells": [
  {
   "cell_type": "markdown",
   "metadata": {},
   "source": [
    "# Rationale"
   ]
  },
  {
   "cell_type": "markdown",
   "metadata": {},
   "source": [
    "ACS for MAB v1 was wayyy unsophisticated.\n",
    "\n",
    "New idea here is to have a directed (asymmetric TSP) graph, where each city has edges leading away from it that each represents an arm. Hence, for a k-arm MAB, we have k+1 cities.\n",
    "\n",
    "We also have to make sure that each set of same-$\\theta$-ed edges form a tour, such that the shortest tour indicates the shortest arm. i.e. $k$ tours out of a possible $(k-1)!$ actually represent arms.\n",
    "\n",
    "Denote the true thetas $\\{ \\theta_i \\}_{i=1}^k$.\n",
    "\n",
    "The cost for each edge leading out from an arbitrary node $u$ would be given by\n",
    "$$\n",
    "\\delta(u,v_i) = \\theta_i \\\\\n",
    "$$\n",
    "(note that the $i$ in the above expression is actually based on which $\\theta_i$ corresponds to which end node $v_i$, not the other way around)\n",
    "\n",
    "Now we redefine\n",
    "$$\n",
    "\\mathbb{E} [\\eta(u, v_i)] = e^{\\delta(u, v_i)} = e^{\\theta_i} \\\\\n",
    "$$\n",
    "the exponentiation is so that we avoid distributional issues at $\\theta_i = 0$. Then, using a $\\Gamma$ distribution with $\\alpha=10$ (although this $\\alpha$ could be arbitrary)\n",
    "$$\n",
    "\\mathbb{E} [\\eta(u, v_i)] = e^{\\theta_i} = \\frac{10}{\\beta} \\\\\n",
    "\\implies \\beta = 10 e^{- \\theta_i}\n",
    "$$\n",
    "such that\n",
    "$$\n",
    "\\eta (u, v_i) \\sim \\Gamma ( \\alpha, \\alpha e^{- \\theta_i} )\n",
    "$$\n",
    "\n",
    "Above it, Thompson sampling remains the same. Choose the edge $\\implies$ pull the arm. Now we have a valid way to quantify regret.\n"
   ]
  },
  {
   "cell_type": "markdown",
   "metadata": {},
   "source": [
    "# Les Codez"
   ]
  },
  {
   "cell_type": "code",
   "execution_count": 1,
   "metadata": {
    "collapsed": true
   },
   "outputs": [],
   "source": [
    "import numpy as np\n",
    "import matplotlib.pylab as plt\n",
    "%matplotlib notebook\n",
    "plt.style.use(['ggplot', 'seaborn-poster'])"
   ]
  },
  {
   "cell_type": "code",
   "execution_count": 2,
   "metadata": {
    "collapsed": true
   },
   "outputs": [],
   "source": [
    "K = 100\n",
    "ANTS = 10"
   ]
  },
  {
   "cell_type": "code",
   "execution_count": 3,
   "metadata": {
    "collapsed": true
   },
   "outputs": [],
   "source": [
    "TRUE_THETAS = np.random.uniform(size=K)"
   ]
  },
  {
   "cell_type": "code",
   "execution_count": 56,
   "metadata": {
    "collapsed": true
   },
   "outputs": [],
   "source": [
    "def generate_arm_tours(k):\n",
    "    \"\"\"\n",
    "    k: number of arms\n",
    "    k+1: number of cities\n",
    "    \"\"\"\n",
    "    U = -np.eye(k+1)\n",
    "    for i in xrange(k+1):\n",
    "        np.put(U[i,:], xrange(i+1, i+1+k), xrange(1,k+1), mode='wrap')\n",
    "    return U"
   ]
  },
  {
   "cell_type": "code",
   "execution_count": 57,
   "metadata": {
    "collapsed": false
   },
   "outputs": [
    {
     "data": {
      "text/plain": [
       "array([[  -1.,    1.,    2., ...,   98.,   99.,  100.],\n",
       "       [ 100.,   -1.,    1., ...,   97.,   98.,   99.],\n",
       "       [  99.,  100.,   -1., ...,   96.,   97.,   98.],\n",
       "       ..., \n",
       "       [   3.,    4.,    5., ...,   -1.,    1.,    2.],\n",
       "       [   2.,    3.,    4., ...,  100.,   -1.,    1.],\n",
       "       [   1.,    2.,    3., ...,   99.,  100.,   -1.]])"
      ]
     },
     "execution_count": 57,
     "metadata": {},
     "output_type": "execute_result"
    }
   ],
   "source": [
    "generate_arm_tours(K)"
   ]
  },
  {
   "cell_type": "code",
   "execution_count": 47,
   "metadata": {
    "collapsed": false
   },
   "outputs": [
    {
     "data": {
      "text/plain": [
       "[2, 3, 4, 5, 6, 7, 8, 9]"
      ]
     },
     "execution_count": 47,
     "metadata": {},
     "output_type": "execute_result"
    }
   ],
   "source": [
    "range(2,10)"
   ]
  },
  {
   "cell_type": "code",
   "execution_count": 54,
   "metadata": {
    "collapsed": false
   },
   "outputs": [],
   "source": [
    "np.put(U[1,:], xrange(2,2+K), xrange(1,K+1), mode='wrap')"
   ]
  },
  {
   "cell_type": "code",
   "execution_count": 55,
   "metadata": {
    "collapsed": false
   },
   "outputs": [
    {
     "data": {
      "text/plain": [
       "array([[  -1.,   -0.,   -0., ...,   -0.,   -0.,   -0.],\n",
       "       [ 100.,   -1.,    1., ...,   97.,   98.,   99.],\n",
       "       [  -0.,   -0.,   -1., ...,   -0.,   -0.,   -0.],\n",
       "       ..., \n",
       "       [  -0.,   -0.,   -0., ...,   -1.,   -0.,   -0.],\n",
       "       [  -0.,   -0.,   -0., ...,   -0.,   -1.,   -0.],\n",
       "       [  -0.,   -0.,   -0., ...,   -0.,   -0.,   -1.]])"
      ]
     },
     "execution_count": 55,
     "metadata": {},
     "output_type": "execute_result"
    }
   ],
   "source": [
    "U"
   ]
  },
  {
   "cell_type": "code",
   "execution_count": null,
   "metadata": {
    "collapsed": true
   },
   "outputs": [],
   "source": []
  }
 ],
 "metadata": {
  "anaconda-cloud": {},
  "kernelspec": {
   "display_name": "Python [conda root]",
   "language": "python",
   "name": "conda-root-py"
  },
  "language_info": {
   "codemirror_mode": {
    "name": "ipython",
    "version": 2
   },
   "file_extension": ".py",
   "mimetype": "text/x-python",
   "name": "python",
   "nbconvert_exporter": "python",
   "pygments_lexer": "ipython2",
   "version": "2.7.12"
  }
 },
 "nbformat": 4,
 "nbformat_minor": 1
}
